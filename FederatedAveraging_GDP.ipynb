{
  "nbformat": 4,
  "nbformat_minor": 0,
  "metadata": {
    "colab": {
      "name": "FederatedAveraging_GDP_CIFAR100",
      "provenance": [],
      "collapsed_sections": [
        "jCOONkg-zV7Y",
        "ctjRsETiO1qO",
        "PTfxv8kFoGAy",
        "uVv4HA9HuLtr",
        "L-aNdQsQ-Kvp"
      ],
      "machine_shape": "hm"
    },
    "kernelspec": {
      "display_name": "Python 3",
      "name": "python3"
    }
  },
  "cells": [
    {
      "cell_type": "code",
      "metadata": {
        "colab": {
          "base_uri": "https://localhost:8080/"
        },
        "id": "DLLNM9X2JbQ8",
        "outputId": "7fa8d746-16c9-45de-db80-d8c9f35d09c1"
      },
      "source": [
        "%load_ext tensorboard\n",
        "import os\n",
        "import numpy as np\n",
        "import matplotlib\n",
        "import matplotlib.pyplot as plt\n",
        "import copy\n",
        "import random\n",
        "import time\n",
        "\n",
        "import torch\n",
        "import torch.nn as nn\n",
        "import torch.nn.functional as F\n",
        "\n",
        "from torch.utils.data import Dataset, DataLoader\n",
        "from torch.utils.tensorboard import SummaryWriter\n",
        "from torchvision import transforms, utils, datasets\n",
        "from torchsummary import summary\n",
        "\n",
        "\n",
        "# Check assigned GPU\n",
        "gpu_info = !nvidia-smi\n",
        "gpu_info = '\\n'.join(gpu_info)\n",
        "if gpu_info.find('failed') >= 0:\n",
        "  print('Select the Runtime > \"Change runtime type\" menu to enable a GPU accelerator, ')\n",
        "  print('and then re-execute this cell.')\n",
        "else:\n",
        "  print(gpu_info)\n",
        "\n",
        "# set manual seed for reproducibility\n",
        "seed = 42\n",
        "\n",
        "# general reproducibility\n",
        "random.seed(seed)\n",
        "np.random.seed(seed)\n",
        "torch.manual_seed(seed)\n",
        "\n",
        "# gpu training specific\n",
        "torch.backends.cudnn.deterministic = True\n",
        "torch.backends.cudnn.benchmark = False"
      ],
      "execution_count": null,
      "outputs": [
        {
          "output_type": "stream",
          "text": [
            "The tensorboard extension is already loaded. To reload it, use:\n",
            "  %reload_ext tensorboard\n",
            "Select the Runtime > \"Change runtime type\" menu to enable a GPU accelerator, \n",
            "and then re-execute this cell.\n"
          ],
          "name": "stdout"
        }
      ]
    },
    {
      "cell_type": "markdown",
      "metadata": {
        "id": "NY4eWzGiL6Mj"
      },
      "source": [
        "## Load the MNIST Dataset"
      ]
    },
    {
      "cell_type": "code",
      "metadata": {
        "colab": {
          "base_uri": "https://localhost:8080/"
        },
        "id": "G649tjTXLL8F",
        "outputId": "95051bcc-59b5-4b9d-e90f-433e07c495fe"
      },
      "source": [
        "# create transforms\n",
        "# We will just convert to tensor and normalize since no special transforms are mentioned in the paper\n",
        "transforms_mnist = transforms.Compose([\n",
        "                                       transforms.ToTensor(),\n",
        "                                       transforms.Normalize((0.1307,), (0.3081,))\n",
        "                                       ])\n",
        "\n",
        "mnist_data_train = datasets.CIFAR100('./data/mnist/', train=True, download=True, transform=transforms_mnist)\n",
        "mnist_data_test = datasets.CIFAR100('../data/mnist/', train=False, download=True, transform=transforms_mnist)"
      ],
      "execution_count": null,
      "outputs": [
        {
          "output_type": "stream",
          "text": [
            "Files already downloaded and verified\n",
            "Files already downloaded and verified\n"
          ],
          "name": "stdout"
        }
      ]
    },
    {
      "cell_type": "code",
      "metadata": {
        "colab": {
          "base_uri": "https://localhost:8080/"
        },
        "id": "dm9usjn2vFkL",
        "outputId": "22c71432-d67e-454e-a0a1-7f1c488e4004"
      },
      "source": [
        "classes = np.array(list(mnist_data_train.class_to_idx.values()))\n",
        "classes_test = np.array(list(mnist_data_test.class_to_idx.values()))\n",
        "num_classes = len(classes_test)\n",
        "print(\"Classes: {} \\tType: {}\".format(classes, type(classes)))\n",
        "print(\"Classes Test: {} \\tType: {}\".format(classes_test, type(classes)))\n"
      ],
      "execution_count": null,
      "outputs": [
        {
          "output_type": "stream",
          "text": [
            "Classes: [ 0  1  2  3  4  5  6  7  8  9 10 11 12 13 14 15 16 17 18 19 20 21 22 23\n",
            " 24 25 26 27 28 29 30 31 32 33 34 35 36 37 38 39 40 41 42 43 44 45 46 47\n",
            " 48 49 50 51 52 53 54 55 56 57 58 59 60 61 62 63 64 65 66 67 68 69 70 71\n",
            " 72 73 74 75 76 77 78 79 80 81 82 83 84 85 86 87 88 89 90 91 92 93 94 95\n",
            " 96 97 98 99] \tType: <class 'numpy.ndarray'>\n",
            "Classes Test: [ 0  1  2  3  4  5  6  7  8  9 10 11 12 13 14 15 16 17 18 19 20 21 22 23\n",
            " 24 25 26 27 28 29 30 31 32 33 34 35 36 37 38 39 40 41 42 43 44 45 46 47\n",
            " 48 49 50 51 52 53 54 55 56 57 58 59 60 61 62 63 64 65 66 67 68 69 70 71\n",
            " 72 73 74 75 76 77 78 79 80 81 82 83 84 85 86 87 88 89 90 91 92 93 94 95\n",
            " 96 97 98 99] \tType: <class 'numpy.ndarray'>\n"
          ],
          "name": "stdout"
        }
      ]
    },
    {
      "cell_type": "code",
      "metadata": {
        "colab": {
          "base_uri": "https://localhost:8080/"
        },
        "id": "9lvJt3Ofv2SO",
        "outputId": "73789c4d-b21a-418f-8512-a3a526c37fd3"
      },
      "source": [
        "print(\"Image Shape: {}\".format(mnist_data_train.data[0].shape))"
      ],
      "execution_count": null,
      "outputs": [
        {
          "output_type": "stream",
          "text": [
            "Image Shape: (32, 32, 3)\n"
          ],
          "name": "stdout"
        }
      ]
    },
    {
      "cell_type": "markdown",
      "metadata": {
        "id": "jCOONkg-zV7Y"
      },
      "source": [
        "## Visualize Data"
      ]
    },
    {
      "cell_type": "code",
      "metadata": {
        "id": "R9MK03TZw6Qs"
      },
      "source": [
        "def imshow(img):\n",
        "\t# img = img/2 + 0.5 #unnormalize the image\n",
        "\tplt.imshow(img) # convert from tensor to image"
      ],
      "execution_count": null,
      "outputs": []
    },
    {
      "cell_type": "code",
      "metadata": {
        "id": "gMJ0Kx4Kw-_H"
      },
      "source": [
        "def visualize(dataset):\n",
        "  figure = plt.figure(figsize=(25,4))\n",
        "  for i in range(20):\n",
        "    axis = figure.add_subplot(2, 20/2, i+1, xticks=[], yticks=[])\n",
        "    data = dataset.data[i]\n",
        "    # data = data.numpy()\n",
        "\n",
        "    target = dataset.targets[i]\n",
        "    # target = target.numpy()\n",
        "    imshow(data)\n",
        "    axis.set_title(target)\n"
      ],
      "execution_count": null,
      "outputs": []
    },
    {
      "cell_type": "code",
      "metadata": {
        "colab": {
          "base_uri": "https://localhost:8080/"
        },
        "id": "8bPOwKg10Ro7",
        "outputId": "86c80819-8e13-42a3-ccc1-58a297a079c8"
      },
      "source": [
        "visualize(mnist_data_train)"
      ],
      "execution_count": null,
      "outputs": [
        {
          "output_type": "display_data",
          "data": {
            "image/png": "[encoded data removed]",
            "text/plain": [
              "<Figure size 1800x288 with 20 Axes>"
            ]
          },
          "metadata": {
            "tags": []
          }
        }
      ]
    },
    {
      "cell_type": "code",
      "metadata": {
        "colab": {
          "base_uri": "https://localhost:8080/"
        },
        "id": "RKoh5Cf70UYu",
        "outputId": "a219c8d4-ca39-485c-88a5-cdceff55e670"
      },
      "source": [
        "visualize(mnist_data_test)"
      ],
      "execution_count": null,
      "outputs": [
        {
          "output_type": "display_data",
          "data": {
            "image/png": "[encoded data removed]",
            "text/plain": [
              "<Figure size 1800x288 with 20 Axes>"
            ]
          },
          "metadata": {
            "tags": []
          }
        }
      ]
    },
    {
      "cell_type": "markdown",
      "metadata": {
        "id": "ctjRsETiO1qO"
      },
      "source": [
        "## Partitioning the Data (IID and non-IID)"
      ]
    },
    {
      "cell_type": "code",
      "metadata": {
        "id": "3_v8lyrgO5dD"
      },
      "source": [
        "def iid_partition(dataset, clients):\n",
        "  \"\"\"\n",
        "  I.I.D paritioning of data over clients\n",
        "  Shuffle the data\n",
        "  Split it between clients\n",
        "  \n",
        "  params:\n",
        "    - dataset (torch.utils.Dataset): Dataset containing the MNIST Images\n",
        "    - clients (int): Number of Clients to split the data between\n",
        "\n",
        "  returns:\n",
        "    - Dictionary of image indexes for each client\n",
        "  \"\"\"\n",
        "\n",
        "  num_items_per_client = int(len(dataset)/clients)\n",
        "  client_dict = {}\n",
        "  image_idxs = [i for i in range(len(dataset))]\n",
        "\n",
        "  for i in range(clients):\n",
        "    client_dict[i] = set(np.random.choice(image_idxs, num_items_per_client, replace=False))\n",
        "    image_idxs = list(set(image_idxs) - client_dict[i])\n",
        "\n",
        "  return client_dict"
      ],
      "execution_count": null,
      "outputs": []
    },
    {
      "cell_type": "code",
      "metadata": {
        "id": "4zMdliGMQoSl"
      },
      "source": [
        "def non_iid_partition(dataset, clients, total_shards, shards_size, num_shards_per_client):\n",
        "  \"\"\"\n",
        "  non I.I.D parititioning of data over clients\n",
        "  Sort the data by the digit label\n",
        "  Divide the data into N shards of size S\n",
        "  Each of the clients will get X shards\n",
        "\n",
        "  params:\n",
        "    - dataset (torch.utils.Dataset): Dataset containing the MNIST Images\n",
        "    - clients (int): Number of Clients to split the data between\n",
        "    - total_shards (int): Number of shards to partition the data in\n",
        "    - shards_size (int): Size of each shard \n",
        "    - num_shards_per_client (int): Number of shards of size shards_size that each client receives\n",
        "\n",
        "  returns:\n",
        "    - Dictionary of image indexes for each client\n",
        "  \"\"\"\n",
        "  \n",
        "  shard_idxs = [i for i in range(total_shards)]\n",
        "  client_dict = {i: np.array([], dtype='int64') for i in range(clients)}\n",
        "  idxs = np.arange(len(dataset))\n",
        "  data_labels = dataset.targets\n",
        "\n",
        "  # sort the labels\n",
        "  label_idxs = np.vstack((idxs, data_labels))\n",
        "  label_idxs = label_idxs[:, label_idxs[1,:].argsort()]\n",
        "  idxs = label_idxs[0,:]\n",
        "\n",
        "  # divide the data into total_shards of size shards_size\n",
        "  # assign num_shards_per_client to each client\n",
        "  for i in range(clients):\n",
        "    rand_set = set(np.random.choice(shard_idxs, num_shards_per_client, replace=False))\n",
        "    shard_idxs = list(set(shard_idxs) - rand_set)\n",
        "\n",
        "    for rand in rand_set:\n",
        "      client_dict[i] = np.concatenate((client_dict[i], idxs[rand*shards_size:(rand+1)*shards_size]), axis=0)\n",
        "  \n",
        "  return client_dict\n",
        "\n",
        "\n",
        "\n"
      ],
      "execution_count": null,
      "outputs": []
    },
    {
      "cell_type": "markdown",
      "metadata": {
        "id": "PTfxv8kFoGAy"
      },
      "source": [
        "## Models"
      ]
    },
    {
      "cell_type": "code",
      "metadata": {
        "id": "CvoDNFKbZST5"
      },
      "source": [
        "class MNIST_2NN(nn.Module):\n",
        "  \"\"\"\n",
        "  A simple multilayer-perceptron with 2-hidden layers with 200 units each\n",
        "  using ReLu activations\n",
        "\n",
        "  Total Expected Params: 199,210\n",
        "  \"\"\"\n",
        "  def __init__(self):\n",
        "    super(MNIST_2NN, self).__init__()\n",
        "\n",
        "    self.fc1 = nn.Linear(28*28, 200)\n",
        "    self.fc2 = nn.Linear(200, 200)\n",
        "    self.fc3 = nn.Linear(200, 10)\n",
        "\n",
        "  def forward(self, x):\n",
        "    x = torch.flatten(x, 1)\n",
        "    x = F.relu(self.fc1(x))\n",
        "    x = F.relu(self.fc2(x))\n",
        "    out = self.fc3(x)\n",
        "\n",
        "    return x"
      ],
      "execution_count": null,
      "outputs": []
    },
    {
      "cell_type": "code",
      "metadata": {
        "id": "ut1hZ8x3qYPZ"
      },
      "source": [
        "class MNIST_CNN(nn.Module):\n",
        "  \"\"\"\n",
        "  CNN with two 5x5 convolution lauers(the first with 32 channels, second with 64,\n",
        "  each followed with 2x2 max pooling), a fully connected layer with 512 uunits and \n",
        "  ReLu activation, and the final Softmax output layer\n",
        "\n",
        "  Total Expected Params: 1,663,370\n",
        "  \"\"\"\n",
        "  def __init__(self):\n",
        "    super(MNIST_CNN, self).__init__()\n",
        "\n",
        "    self.conv1 = nn.Conv2d(3, 32, kernel_size=5)\n",
        "    self.conv2 = nn.Conv2d(32, 64, kernel_size=5)\n",
        "    \n",
        "    self.pool = nn.MaxPool2d(2,2)\n",
        "    self.dropout = nn.Dropout(p=0.2)\n",
        "\n",
        "    self.fc1 = nn.Linear(1600, 512)\n",
        "    self.out = nn.Linear(512, 100)\n",
        "\n",
        "  def forward(self, x):\n",
        "    x = self.pool(F.relu(self.conv1(x)))\n",
        "    x = self.pool(F.relu(self.conv2(x)))\n",
        "    x = self.dropout(x)\n",
        "    x = torch.flatten(x, 1)\n",
        "    x = F.relu(self.fc1(x))\n",
        "    x = self.out(x)\n",
        "    out = F.log_softmax(x, dim=1)\n",
        "\n",
        "    return out"
      ],
      "execution_count": null,
      "outputs": []
    },
    {
      "cell_type": "markdown",
      "metadata": {
        "id": "uVv4HA9HuLtr"
      },
      "source": [
        "### Print Model Summaries"
      ]
    },
    {
      "cell_type": "code",
      "metadata": {
        "colab": {
          "base_uri": "https://localhost:8080/"
        },
        "id": "I5oTH710sJEt",
        "outputId": "b575e65b-5616-4a47-ede0-ff0f11043a04"
      },
      "source": [
        "mnist_mlp = MNIST_2NN()\n",
        "mnist_cnn = MNIST_CNN()\n",
        "\n",
        "if torch.cuda.is_available():\n",
        "  mnist_mlp.cuda()\n",
        "  mnist_cnn.cuda()\n",
        "\n",
        "print(\"MNIST MLP SUMMARY\")\n",
        "print(summary(mnist_mlp, (28,28)))\n",
        "\n",
        "print(\"\\nMNIST CNN SUMMARY\")\n",
        "print(summary(mnist_cnn, (3, 32,32)))"
      ],
      "execution_count": null,
      "outputs": [
        {
          "output_type": "stream",
          "text": [
            "MNIST MLP SUMMARY\n",
            "----------------------------------------------------------------\n",
            "        Layer (type)               Output Shape         Param #\n",
            "================================================================\n",
            "            Linear-1                  [-1, 200]         157,000\n",
            "            Linear-2                  [-1, 200]          40,200\n",
            "            Linear-3                   [-1, 10]           2,010\n",
            "================================================================\n",
            "Total params: 199,210\n",
            "Trainable params: 199,210\n",
            "Non-trainable params: 0\n",
            "----------------------------------------------------------------\n",
            "Input size (MB): 0.00\n",
            "Forward/backward pass size (MB): 0.00\n",
            "Params size (MB): 0.76\n",
            "Estimated Total Size (MB): 0.77\n",
            "----------------------------------------------------------------\n",
            "None\n",
            "\n",
            "MNIST CNN SUMMARY\n",
            "----------------------------------------------------------------\n",
            "        Layer (type)               Output Shape         Param #\n",
            "================================================================\n",
            "            Conv2d-1           [-1, 32, 28, 28]           2,432\n",
            "         MaxPool2d-2           [-1, 32, 14, 14]               0\n",
            "            Conv2d-3           [-1, 64, 10, 10]          51,264\n",
            "         MaxPool2d-4             [-1, 64, 5, 5]               0\n",
            "           Dropout-5             [-1, 64, 5, 5]               0\n",
            "            Linear-6                  [-1, 512]         819,712\n",
            "            Linear-7                  [-1, 100]          51,300\n",
            "================================================================\n",
            "Total params: 924,708\n",
            "Trainable params: 924,708\n",
            "Non-trainable params: 0\n",
            "----------------------------------------------------------------\n",
            "Input size (MB): 0.01\n",
            "Forward/backward pass size (MB): 0.32\n",
            "Params size (MB): 3.53\n",
            "Estimated Total Size (MB): 3.86\n",
            "----------------------------------------------------------------\n",
            "None\n"
          ],
          "name": "stdout"
        }
      ]
    },
    {
      "cell_type": "markdown",
      "metadata": {
        "id": "gf_8XEXa-gZ7"
      },
      "source": [
        "## Federated Averaging"
      ]
    },
    {
      "cell_type": "markdown",
      "metadata": {
        "id": "L-aNdQsQ-Kvp"
      },
      "source": [
        "### Local Training (Client Update)\n",
        "\n",
        "Local training for the model on client side"
      ]
    },
    {
      "cell_type": "code",
      "metadata": {
        "id": "oX6OsQyO-Gz7"
      },
      "source": [
        "class CustomDataset(Dataset):\n",
        "  def __init__(self, dataset, idxs):\n",
        "      self.dataset = dataset\n",
        "      self.idxs = list(idxs)\n",
        "\n",
        "  def __len__(self):\n",
        "      return len(self.idxs)\n",
        "\n",
        "  def __getitem__(self, item):\n",
        "      image, label = self.dataset[self.idxs[item]]\n",
        "      return image, label\n",
        "\n",
        "class ClientUpdate(object):\n",
        "  def __init__(self, dataset, batchSize, learning_rate, epochs, idxs):\n",
        "    self.train_loader = DataLoader(CustomDataset(dataset, idxs), batch_size=batchSize, shuffle=True)\n",
        "\n",
        "    self.learning_rate = learning_rate\n",
        "    self.epochs = epochs\n",
        "\n",
        "  def train(self, model):\n",
        "\n",
        "    criterion = nn.CrossEntropyLoss()\n",
        "    optimizer = torch.optim.SGD(model.parameters(), lr=self.learning_rate, momentum=0.5)\n",
        "    # optimizer = torch.optim.Adam(model.parameters(), lr=self.learning_rate)\n",
        "\n",
        "    e_loss = []\n",
        "    for epoch in range(1, self.epochs+1):\n",
        "\n",
        "      train_loss = 0.0\n",
        "\n",
        "      model.train()\n",
        "      for data, labels in self.train_loader:\n",
        "\n",
        "        if torch.cuda.is_available():\n",
        "          data, labels = data.cuda(), labels.cuda()\n",
        "\n",
        "        # clear the gradients\n",
        "        optimizer.zero_grad()\n",
        "        # make a forward pass\n",
        "        output = model(data)\n",
        "        # calculate the loss\n",
        "        loss = criterion(output, labels)\n",
        "        # do a backwards pass\n",
        "        loss.backward()\n",
        "        # perform a single optimization step\n",
        "        optimizer.step()\n",
        "        # update training loss\n",
        "        train_loss += loss.item()*data.size(0)\n",
        "\n",
        "      # average losses\n",
        "      train_loss = train_loss/len(self.train_loader.dataset)\n",
        "      e_loss.append(train_loss)\n",
        "\n",
        "    total_loss = sum(e_loss)/len(e_loss)\n",
        "\n",
        "    return model.state_dict(), total_loss"
      ],
      "execution_count": null,
      "outputs": []
    },
    {
      "cell_type": "markdown",
      "metadata": {
        "id": "Ukgh1DVHE2Ds"
      },
      "source": [
        "### Server Side Training\n",
        "\n",
        "Following Algorithm 1 from the paper"
      ]
    },
    {
      "cell_type": "code",
      "metadata": {
        "id": "1NF1e33BgpeL"
      },
      "source": [
        "def training(model, rounds, batch_size, lr, ds, data_dict, C, K, E, plt_title, plt_color,num_classes,classes_test):\n",
        "  \"\"\"\n",
        "  Function implements the Federated Averaging Algorithm from the FedAvg paper.\n",
        "  Specifically, this function is used for the server side training and weight update\n",
        "\n",
        "  Params:\n",
        "    - model:           PyTorch model to train\n",
        "    - rounds:          Number of communication rounds for the client update\n",
        "    - batch_size:      Batch size for client update training\n",
        "    - lr:              Learning rate used for client update training\n",
        "    - ds:              Dataset used for training\n",
        "    - data_dict:       Type of data partition used for training (IID or non-IID)\n",
        "    - C:               Fraction of clients randomly chosen to perform computation on each round\n",
        "    - K:               Total number of clients\n",
        "    - E:               Number of training passes each client makes over its local dataset per round\n",
        "    - tb_writer_name:  Directory name to save the tensorboard logs\n",
        "  Returns:\n",
        "    - model:           Trained model on the server\n",
        "  \"\"\"\n",
        "\n",
        "  # global model weights\n",
        "  global_weights = model.state_dict()\n",
        "\n",
        "  # training loss\n",
        "  train_loss = []\n",
        "  z = 0.41011\n",
        "  S = 1.2\n",
        "  # measure time\n",
        "  start = time.time()\n",
        "\n",
        "  for curr_round in range(1, rounds+1):\n",
        "    w, local_loss = [], []\n",
        "\n",
        "    m = max(int(C*K), 1)\n",
        "    \n",
        "    S_t = np.random.choice(range(K), m, replace=False)\n",
        "    for k in S_t:\n",
        "      local_update = ClientUpdate(dataset=ds, batchSize=batch_size, learning_rate=lr, epochs=E, idxs=data_dict[k])\n",
        "      weights, loss = local_update.train(model=copy.deepcopy(model))\n",
        "\n",
        "      w.append(copy.deepcopy(weights))\n",
        "      local_loss.append(copy.deepcopy(loss))\n",
        "\n",
        "    # updating the global weights\n",
        "    weights_avg = copy.deepcopy(w[0])\n",
        "    for k in weights_avg.keys():\n",
        "      for i in range(1, len(w)):\n",
        "        weights_avg[k] += w[i][k]\n",
        "\n",
        "      weights_avg[k] = torch.div(weights_avg[k], len(w)) + torch.normal(\n",
        "                  0,\n",
        "                  z * S /len(w),\n",
        "                  weights_avg[k].shape,\n",
        "                  device=weights_avg[k].device,\n",
        "              )\n",
        "\n",
        "    global_weights = weights_avg\n",
        "\n",
        "    # move the updated weights to our model state dict\n",
        "    model.load_state_dict(global_weights)\n",
        "\n",
        "    # loss\n",
        "    loss_avg = sum(local_loss) / len(local_loss)\n",
        "    criterion = nn.CrossEntropyLoss()\n",
        "    testing(model, ds, 128, criterion, num_classes, classes_test, curr_round)\n",
        "    L = \"Round: \"  + str(curr_round) +\"   \"+\"Average Loss: \" + str(round(loss_avg, 3)) + \"\\n\"\n",
        "    with open(\"Round_avgloss_cifar100_globalDP_0.5.txt\", \"a+\") as file1:\n",
        "  \n",
        "      file1.writelines(L)\n",
        "    print('Round: {}... \\tAverage Loss: {}'.format(curr_round, round(loss_avg, 3)))\n",
        "    train_loss.append(loss_avg)\n",
        "\n",
        "  end = time.time()\n",
        "  fig, ax = plt.subplots()\n",
        "  x_axis = np.arange(1, rounds+1)\n",
        "  y_axis = np.array(train_loss)\n",
        "  ax.plot(x_axis, y_axis, 'tab:'+plt_color)\n",
        "\n",
        "  ax.set(xlabel='Number of Rounds', ylabel='Train Loss',\n",
        "       title=plt_title)\n",
        "  ax.grid()\n",
        "  fig.savefig(plt_title+'.jpg', format='jpg')\n",
        "  print(\"Training Done!\")\n",
        "  print(\"Total time taken to Train: {}\".format(end-start))\n",
        "  \n",
        "  return model"
      ],
      "execution_count": null,
      "outputs": []
    },
    {
      "cell_type": "markdown",
      "metadata": {
        "id": "tUYyb4T-uXmF"
      },
      "source": [
        "## Testing Loop"
      ]
    },
    {
      "cell_type": "code",
      "metadata": {
        "id": "uCcIZmO5uan9"
      },
      "source": [
        "def testing(model, dataset, bs, criterion, num_classes, classes, curr_round):\n",
        "  #test loss \n",
        "  test_loss = 0.0\n",
        "  correct_class = list(0. for i in range(num_classes))\n",
        "  # print(len(correct_class))\n",
        "  total_class = list(0. for i in range(num_classes))\n",
        "  # print(len(total_class))\n",
        "\n",
        "  test_loader = DataLoader(dataset, batch_size=bs)\n",
        "  l = len(test_loader)\n",
        "  model.eval()\n",
        "  for data, labels in test_loader:\n",
        "\n",
        "    if torch.cuda.is_available():\n",
        "      data, labels = data.cuda(), labels.cuda()\n",
        "\n",
        "    output = model(data)\n",
        "    loss = criterion(output, labels)\n",
        "    test_loss += loss.item()*data.size(0)\n",
        "\n",
        "    _, pred = torch.max(output, 1)\n",
        "\n",
        "    correct_tensor = pred.eq(labels.data.view_as(pred))\n",
        "    correct = np.squeeze(correct_tensor.numpy()) if not torch.cuda.is_available() else np.squeeze(correct_tensor.cpu().numpy())\n",
        "\n",
        "    #test accuracy for each object class\n",
        "    for i in range(len(labels)):\n",
        "      label = labels.data[i]\n",
        "      correct_class[label] += correct[i].item()\n",
        "      total_class[label] += 1\n",
        "    \n",
        "  # avg test loss\n",
        "  test_loss = test_loss/len(test_loader.dataset)\n",
        "  print(\"Train Loss: {:.6f}\\n\".format(test_loss))\n",
        "\n",
        "  # print test accuracy\n",
        "  if curr_round == 50 or curr_round==100:\n",
        "    for i in range(100):\n",
        "      # if total_class[i]>0:\n",
        "        print('Train Accuracy of %5s: %.3f%% (%2d/%2d)' % \n",
        "              (classes[i], 100.0 * correct_class[i] / total_class[i],\n",
        "              np.sum(correct_class[i]), np.sum(total_class[i])))\n",
        "      # else:\n",
        "      #   print('Train Accuracy of %5s: N/A (no training examples)' % (classes[i]))\n",
        "  model.train()\n",
        "  L = \"Round: \"  + str(curr_round) +\"   \"+\"Train Acc: \" + str(round(100. * np.sum(correct_class) / np.sum(total_class), 3)) + \"\\n\"\n",
        "  with open(\"Train_acc_cifar100_globalDP_0.5.txt\", \"a+\") as file1:\n",
        "\n",
        "      file1.writelines(L)\n",
        "\n",
        "  print('\\nFinal Train  Accuracy: {:.3f} ({}/{})'.format(\n",
        "        100. * np.sum(correct_class) / np.sum(total_class),\n",
        "        np.sum(correct_class), np.sum(total_class)))"
      ],
      "execution_count": null,
      "outputs": []
    },
    {
      "cell_type": "markdown",
      "metadata": {
        "id": "4hO5oV6aXqeh"
      },
      "source": [
        "## MNIST CNN on IID"
      ]
    },
    {
      "cell_type": "markdown",
      "metadata": {
        "id": "flSQv_P4zCfx"
      },
      "source": [
        "### Train\n"
      ]
    },
    {
      "cell_type": "code",
      "metadata": {
        "colab": {
          "base_uri": "https://localhost:8080/",
          "height": 1000
        },
        "id": "0ZalcKZtEseA",
        "outputId": "9b3fc91a-21a3-4292-f57f-468c30197b1f"
      },
      "source": [
        "# number of training rounds\n",
        "rounds = 100\n",
        "# client fraction\n",
        "C = 0.1\n",
        "# number of clients\n",
        "K = 100\n",
        "# number of training passes on local dataset for each roung\n",
        "E = 5\n",
        "# batch size\n",
        "batch_size = 10\n",
        "# learning Rate\n",
        "lr=0.01\n",
        "# data partition dictionary\n",
        "iid_dict = iid_partition(mnist_data_train, 100)\n",
        "# load model\n",
        "mnist_cnn = MNIST_CNN()\n",
        "\n",
        "if torch.cuda.is_available():\n",
        "  mnist_cnn.cuda()\n",
        "\n",
        "mnist_cnn_iid_trained = training(mnist_cnn, rounds, batch_size, lr, mnist_data_train, iid_dict, C, K, E, \"MNIST CNN on IID Dataset\", \"orange\")"
      ],
      "execution_count": null,
      "outputs": [
        {
          "output_type": "stream",
          "text": [
            "Round: 1... \tAverage Loss: 0.818\n",
            "Round: 2... \tAverage Loss: 0.202\n",
            "Round: 3... \tAverage Loss: 0.139\n",
            "Round: 4... \tAverage Loss: 0.099\n",
            "Round: 5... \tAverage Loss: 0.073\n",
            "Round: 6... \tAverage Loss: 0.066\n",
            "Round: 7... \tAverage Loss: 0.057\n",
            "Round: 8... \tAverage Loss: 0.058\n",
            "Round: 9... \tAverage Loss: 0.052\n",
            "Round: 10... \tAverage Loss: 0.04\n",
            "Round: 11... \tAverage Loss: 0.041\n",
            "Round: 12... \tAverage Loss: 0.04\n",
            "Round: 13... \tAverage Loss: 0.031\n",
            "Round: 14... \tAverage Loss: 0.042\n",
            "Round: 15... \tAverage Loss: 0.032\n",
            "Round: 16... \tAverage Loss: 0.031\n",
            "Round: 17... \tAverage Loss: 0.032\n",
            "Round: 18... \tAverage Loss: 0.029\n",
            "Round: 19... \tAverage Loss: 0.024\n",
            "Round: 20... \tAverage Loss: 0.026\n",
            "Round: 21... \tAverage Loss: 0.027\n",
            "Round: 22... \tAverage Loss: 0.027\n",
            "Round: 23... \tAverage Loss: 0.021\n",
            "Round: 24... \tAverage Loss: 0.024\n",
            "Round: 25... \tAverage Loss: 0.023\n",
            "Round: 26... \tAverage Loss: 0.023\n",
            "Round: 27... \tAverage Loss: 0.024\n",
            "Round: 28... \tAverage Loss: 0.019\n",
            "Round: 29... \tAverage Loss: 0.022\n",
            "Round: 30... \tAverage Loss: 0.02\n",
            "Round: 31... \tAverage Loss: 0.019\n",
            "Round: 32... \tAverage Loss: 0.02\n",
            "Round: 33... \tAverage Loss: 0.017\n",
            "Round: 34... \tAverage Loss: 0.023\n",
            "Round: 35... \tAverage Loss: 0.016\n",
            "Round: 36... \tAverage Loss: 0.016\n",
            "Round: 37... \tAverage Loss: 0.016\n",
            "Round: 38... \tAverage Loss: 0.014\n",
            "Round: 39... \tAverage Loss: 0.018\n",
            "Round: 40... \tAverage Loss: 0.018\n",
            "Round: 41... \tAverage Loss: 0.015\n",
            "Round: 42... \tAverage Loss: 0.017\n",
            "Round: 43... \tAverage Loss: 0.017\n",
            "Round: 44... \tAverage Loss: 0.012\n",
            "Round: 45... \tAverage Loss: 0.02\n",
            "Round: 46... \tAverage Loss: 0.015\n",
            "Round: 47... \tAverage Loss: 0.016\n",
            "Round: 48... \tAverage Loss: 0.013\n",
            "Round: 49... \tAverage Loss: 0.014\n",
            "Round: 50... \tAverage Loss: 0.014\n",
            "Round: 51... \tAverage Loss: 0.013\n",
            "Round: 52... \tAverage Loss: 0.012\n",
            "Round: 53... \tAverage Loss: 0.017\n",
            "Round: 54... \tAverage Loss: 0.012\n",
            "Round: 55... \tAverage Loss: 0.016\n",
            "Round: 56... \tAverage Loss: 0.014\n",
            "Round: 57... \tAverage Loss: 0.01\n",
            "Round: 58... \tAverage Loss: 0.013\n",
            "Round: 59... \tAverage Loss: 0.014\n",
            "Round: 60... \tAverage Loss: 0.013\n",
            "Round: 61... \tAverage Loss: 0.01\n",
            "Round: 62... \tAverage Loss: 0.011\n",
            "Round: 63... \tAverage Loss: 0.01\n",
            "Round: 64... \tAverage Loss: 0.01\n",
            "Round: 65... \tAverage Loss: 0.012\n",
            "Round: 66... \tAverage Loss: 0.013\n",
            "Round: 67... \tAverage Loss: 0.01\n",
            "Round: 68... \tAverage Loss: 0.012\n",
            "Round: 69... \tAverage Loss: 0.012\n",
            "Round: 70... \tAverage Loss: 0.013\n",
            "Round: 71... \tAverage Loss: 0.009\n",
            "Round: 72... \tAverage Loss: 0.011\n",
            "Round: 73... \tAverage Loss: 0.011\n",
            "Round: 74... \tAverage Loss: 0.009\n",
            "Round: 75... \tAverage Loss: 0.009\n",
            "Round: 76... \tAverage Loss: 0.009\n",
            "Round: 77... \tAverage Loss: 0.013\n",
            "Round: 78... \tAverage Loss: 0.01\n",
            "Round: 79... \tAverage Loss: 0.01\n",
            "Round: 80... \tAverage Loss: 0.009\n",
            "Round: 81... \tAverage Loss: 0.009\n",
            "Round: 82... \tAverage Loss: 0.01\n",
            "Round: 83... \tAverage Loss: 0.01\n",
            "Round: 84... \tAverage Loss: 0.01\n",
            "Round: 85... \tAverage Loss: 0.009\n",
            "Round: 86... \tAverage Loss: 0.008\n",
            "Round: 87... \tAverage Loss: 0.008\n",
            "Round: 88... \tAverage Loss: 0.008\n",
            "Round: 89... \tAverage Loss: 0.007\n",
            "Round: 90... \tAverage Loss: 0.008\n",
            "Round: 91... \tAverage Loss: 0.009\n",
            "Round: 92... \tAverage Loss: 0.009\n",
            "Round: 93... \tAverage Loss: 0.009\n",
            "Round: 94... \tAverage Loss: 0.008\n",
            "Round: 95... \tAverage Loss: 0.007\n",
            "Round: 96... \tAverage Loss: 0.007\n",
            "Round: 97... \tAverage Loss: 0.008\n",
            "Round: 98... \tAverage Loss: 0.01\n",
            "Round: 99... \tAverage Loss: 0.012\n",
            "Round: 100... \tAverage Loss: 0.006\n",
            "Training Done!\n",
            "Total time taken to Train: 1146.740481853485\n"
          ],
          "name": "stdout"
        },
        {
          "output_type": "display_data",
          "data": {
            "image/png": "[encoded data removed]",
            "text/plain": [
              "<Figure size 432x288 with 1 Axes>"
            ]
          },
          "metadata": {
            "tags": []
          }
        }
      ]
    },
    {
      "cell_type": "markdown",
      "metadata": {
        "id": "wNwC82przF6G"
      },
      "source": [
        "### Test"
      ]
    },
    {
      "cell_type": "code",
      "metadata": {
        "colab": {
          "base_uri": "https://localhost:8080/",
          "height": 255
        },
        "id": "qB97BFs9we9w",
        "outputId": "666abc14-a53c-4766-c9a3-089e819b065e"
      },
      "source": [
        "criterion = nn.CrossEntropyLoss()\n",
        "testing(mnist_cnn_iid_trained, mnist_data_test, 128, criterion, num_classes, classes_test)"
      ],
      "execution_count": null,
      "outputs": [
        {
          "output_type": "stream",
          "text": [
            "Test Loss: 0.022679\n",
            "\n",
            "Test Accuracy of     0: 100% (76/76)\n",
            "Test Accuracy of     1: 100% (90/90)\n",
            "Test Accuracy of     2: 100% (91/91)\n",
            "Test Accuracy of     3: 97% (71/73)\n",
            "Test Accuracy of     4: 100% (89/89)\n",
            "Test Accuracy of     5: 98% (67/68)\n",
            "Test Accuracy of     6: 100% (62/62)\n",
            "Test Accuracy of     7: 100% (81/81)\n",
            "Test Accuracy of     8: 100% (77/77)\n",
            "Test Accuracy of     9: 98% (82/83)\n",
            "\n",
            "Final Test  Accuracy: 99.494 (786.0/790.0)\n"
          ],
          "name": "stdout"
        }
      ]
    },
    {
      "cell_type": "markdown",
      "metadata": {
        "id": "uF8MdSIUYcnl"
      },
      "source": [
        "## MNIST CNN on Non IID"
      ]
    },
    {
      "cell_type": "markdown",
      "metadata": {
        "id": "a6wXX7JW11bx"
      },
      "source": [
        "### Train\n"
      ]
    },
    {
      "cell_type": "code",
      "metadata": {
        "colab": {
          "base_uri": "https://localhost:8080/",
          "height": 1000
        },
        "id": "fCD3kBCKYfBK",
        "outputId": "cbc16f4a-679b-4bcb-9eda-b1cf81fe9aab"
      },
      "source": [
        "# number of training rounds\n",
        "rounds = 50\n",
        "# client fraction\n",
        "C = 0.1\n",
        "# number of clients\n",
        "K = 100\n",
        "# number of training passes on local dataset for each roung\n",
        "E = 5\n",
        "# batch size\n",
        "batch_size = 128\n",
        "# learning Rate\n",
        "lr=1e-3\n",
        "# dict containing different type of data partition\n",
        "data_dict = non_iid_partition(mnist_data_train, 100, 2000, 25, 20)\n",
        "# load model\n",
        "mnist_cnn = MNIST_CNN()\n",
        "\n",
        "if torch.cuda.is_available():\n",
        "  mnist_cnn.cuda()\n",
        "# print(classes_test)\n",
        "mnist_cnn_non_iid_trained = training(mnist_cnn, rounds, batch_size, lr, mnist_data_train, data_dict, C, K, E, \"MNIST CNN on Non-IID Dataset\", \"green\", num_classes,classes_test)\n"
      ],
      "execution_count": null,
      "outputs": [
        {
          "output_type": "stream",
          "text": [
            "Train Loss: 5.833438\n",
            "\n",
            "\n",
            "Final Train  Accuracy: 1.010 (505.0/50000.0)\n",
            "Round: 1... \tAverage Loss: 4.576\n",
            "Train Loss: 8.915183\n",
            "\n",
            "\n",
            "Final Train  Accuracy: 1.026 (513.0/50000.0)\n",
            "Round: 2... \tAverage Loss: 4.745\n",
            "Train Loss: 11.076414\n",
            "\n",
            "\n",
            "Final Train  Accuracy: 1.172 (586.0/50000.0)\n",
            "Round: 3... \tAverage Loss: 5.537\n",
            "Train Loss: 11.754052\n",
            "\n",
            "\n",
            "Final Train  Accuracy: 1.042 (521.0/50000.0)\n",
            "Round: 4... \tAverage Loss: 6.397\n",
            "Train Loss: 13.192565\n",
            "\n",
            "\n",
            "Final Train  Accuracy: 1.158 (579.0/50000.0)\n",
            "Round: 5... \tAverage Loss: 7.37\n",
            "Train Loss: 12.534415\n",
            "\n",
            "\n",
            "Final Train  Accuracy: 1.172 (586.0/50000.0)\n",
            "Round: 6... \tAverage Loss: 8.197\n",
            "Train Loss: 14.381420\n",
            "\n",
            "\n",
            "Final Train  Accuracy: 1.240 (620.0/50000.0)\n",
            "Round: 7... \tAverage Loss: 8.323\n",
            "Train Loss: 13.104821\n",
            "\n",
            "\n",
            "Final Train  Accuracy: 1.088 (544.0/50000.0)\n",
            "Round: 8... \tAverage Loss: 8.438\n",
            "Train Loss: 17.221836\n",
            "\n",
            "\n",
            "Final Train  Accuracy: 1.074 (537.0/50000.0)\n",
            "Round: 9... \tAverage Loss: 8.608\n",
            "Train Loss: 12.886393\n",
            "\n",
            "\n",
            "Final Train  Accuracy: 0.868 (434.0/50000.0)\n",
            "Round: 10... \tAverage Loss: 8.297\n",
            "Train Loss: 25.438985\n",
            "\n",
            "\n",
            "Final Train  Accuracy: 1.112 (556.0/50000.0)\n",
            "Round: 11... \tAverage Loss: 7.767\n",
            "Train Loss: 12.858475\n",
            "\n",
            "\n",
            "Final Train  Accuracy: 0.938 (469.0/50000.0)\n",
            "Round: 12... \tAverage Loss: 9.19\n",
            "Train Loss: 8.638368\n",
            "\n",
            "\n",
            "Final Train  Accuracy: 0.978 (489.0/50000.0)\n",
            "Round: 13... \tAverage Loss: 8.14\n",
            "Train Loss: 7.711831\n",
            "\n",
            "\n",
            "Final Train  Accuracy: 1.048 (524.0/50000.0)\n",
            "Round: 14... \tAverage Loss: 7.603\n",
            "Train Loss: 9.029936\n",
            "\n",
            "\n",
            "Final Train  Accuracy: 1.032 (516.0/50000.0)\n",
            "Round: 15... \tAverage Loss: 6.902\n",
            "Train Loss: 8.544454\n",
            "\n",
            "\n",
            "Final Train  Accuracy: 1.138 (569.0/50000.0)\n",
            "Round: 16... \tAverage Loss: 7.386\n",
            "Train Loss: 10.444408\n",
            "\n",
            "\n",
            "Final Train  Accuracy: 1.054 (527.0/50000.0)\n",
            "Round: 17... \tAverage Loss: 7.231\n",
            "Train Loss: 8.322232\n",
            "\n",
            "\n",
            "Final Train  Accuracy: 1.042 (521.0/50000.0)\n",
            "Round: 18... \tAverage Loss: 7.413\n",
            "Train Loss: 8.275585\n",
            "\n",
            "\n",
            "Final Train  Accuracy: 0.982 (491.0/50000.0)\n",
            "Round: 19... \tAverage Loss: 7.123\n",
            "Train Loss: 7.717563\n",
            "\n",
            "\n",
            "Final Train  Accuracy: 0.912 (456.0/50000.0)\n",
            "Round: 20... \tAverage Loss: 6.862\n",
            "Train Loss: 8.617973\n",
            "\n",
            "\n",
            "Final Train  Accuracy: 0.974 (487.0/50000.0)\n",
            "Round: 21... \tAverage Loss: 6.78\n",
            "Train Loss: 8.463725\n",
            "\n",
            "\n",
            "Final Train  Accuracy: 0.986 (493.0/50000.0)\n",
            "Round: 22... \tAverage Loss: 7.053\n",
            "Train Loss: 9.051784\n",
            "\n",
            "\n",
            "Final Train  Accuracy: 0.988 (494.0/50000.0)\n",
            "Round: 23... \tAverage Loss: 7.303\n",
            "Train Loss: 8.354573\n",
            "\n",
            "\n",
            "Final Train  Accuracy: 0.972 (486.0/50000.0)\n",
            "Round: 24... \tAverage Loss: 6.953\n",
            "Train Loss: 8.062099\n",
            "\n",
            "\n",
            "Final Train  Accuracy: 0.924 (462.0/50000.0)\n",
            "Round: 25... \tAverage Loss: 6.922\n",
            "Train Loss: 7.741680\n",
            "\n",
            "\n",
            "Final Train  Accuracy: 1.010 (505.0/50000.0)\n",
            "Round: 26... \tAverage Loss: 6.97\n",
            "Train Loss: 8.081825\n",
            "\n",
            "\n",
            "Final Train  Accuracy: 0.934 (467.0/50000.0)\n",
            "Round: 27... \tAverage Loss: 6.558\n",
            "Train Loss: 7.361374\n",
            "\n",
            "\n",
            "Final Train  Accuracy: 0.988 (494.0/50000.0)\n",
            "Round: 28... \tAverage Loss: 6.985\n",
            "Train Loss: 8.115596\n",
            "\n",
            "\n",
            "Final Train  Accuracy: 0.996 (498.0/50000.0)\n",
            "Round: 29... \tAverage Loss: 6.885\n",
            "Train Loss: 7.695088\n",
            "\n",
            "\n",
            "Final Train  Accuracy: 0.958 (479.0/50000.0)\n",
            "Round: 30... \tAverage Loss: 6.61\n",
            "Train Loss: 8.211151\n",
            "\n",
            "\n",
            "Final Train  Accuracy: 1.048 (524.0/50000.0)\n",
            "Round: 31... \tAverage Loss: 7.027\n",
            "Train Loss: 7.536904\n",
            "\n",
            "\n",
            "Final Train  Accuracy: 1.100 (550.0/50000.0)\n",
            "Round: 32... \tAverage Loss: 6.916\n",
            "Train Loss: 7.105013\n",
            "\n",
            "\n",
            "Final Train  Accuracy: 1.072 (536.0/50000.0)\n",
            "Round: 33... \tAverage Loss: 7.039\n",
            "Train Loss: 8.218545\n",
            "\n",
            "\n",
            "Final Train  Accuracy: 0.938 (469.0/50000.0)\n",
            "Round: 34... \tAverage Loss: 6.679\n",
            "Train Loss: 8.166525\n",
            "\n",
            "\n",
            "Final Train  Accuracy: 1.068 (534.0/50000.0)\n",
            "Round: 35... \tAverage Loss: 6.759\n",
            "Train Loss: 9.269502\n",
            "\n",
            "\n",
            "Final Train  Accuracy: 0.904 (452.0/50000.0)\n",
            "Round: 36... \tAverage Loss: 6.997\n",
            "Train Loss: 7.786845\n",
            "\n",
            "\n",
            "Final Train  Accuracy: 1.138 (569.0/50000.0)\n",
            "Round: 37... \tAverage Loss: 7.419\n",
            "Train Loss: 7.332884\n",
            "\n",
            "\n",
            "Final Train  Accuracy: 1.090 (545.0/50000.0)\n",
            "Round: 38... \tAverage Loss: 6.349\n",
            "Train Loss: 7.242182\n",
            "\n",
            "\n",
            "Final Train  Accuracy: 1.148 (574.0/50000.0)\n",
            "Round: 39... \tAverage Loss: 6.446\n",
            "Train Loss: 6.913847\n",
            "\n",
            "\n",
            "Final Train  Accuracy: 1.150 (575.0/50000.0)\n",
            "Round: 40... \tAverage Loss: 6.515\n",
            "Train Loss: 7.473801\n",
            "\n",
            "\n",
            "Final Train  Accuracy: 0.750 (375.0/50000.0)\n",
            "Round: 41... \tAverage Loss: 6.273\n",
            "Train Loss: 8.903373\n",
            "\n",
            "\n",
            "Final Train  Accuracy: 0.938 (469.0/50000.0)\n",
            "Round: 42... \tAverage Loss: 6.547\n",
            "Train Loss: 7.550302\n",
            "\n",
            "\n",
            "Final Train  Accuracy: 1.132 (566.0/50000.0)\n",
            "Round: 43... \tAverage Loss: 6.447\n",
            "Train Loss: 7.384953\n",
            "\n",
            "\n",
            "Final Train  Accuracy: 1.034 (517.0/50000.0)\n",
            "Round: 44... \tAverage Loss: 6.425\n",
            "Train Loss: 7.899965\n",
            "\n",
            "\n",
            "Final Train  Accuracy: 1.062 (531.0/50000.0)\n",
            "Round: 45... \tAverage Loss: 6.659\n",
            "Train Loss: 6.627862\n",
            "\n",
            "\n",
            "Final Train  Accuracy: 0.966 (483.0/50000.0)\n",
            "Round: 46... \tAverage Loss: 6.669\n",
            "Train Loss: 7.282249\n",
            "\n",
            "\n",
            "Final Train  Accuracy: 1.160 (580.0/50000.0)\n",
            "Round: 47... \tAverage Loss: 6.328\n",
            "Train Loss: 7.031282\n",
            "\n",
            "\n",
            "Final Train  Accuracy: 1.092 (546.0/50000.0)\n",
            "Round: 48... \tAverage Loss: 6.462\n",
            "Train Loss: 7.754106\n",
            "\n",
            "\n",
            "Final Train  Accuracy: 1.084 (542.0/50000.0)\n",
            "Round: 49... \tAverage Loss: 6.387\n",
            "Train Loss: 8.375555\n",
            "\n",
            "Train Accuracy of     0: 0.000% ( 0/500)\n",
            "Train Accuracy of     1: 0.000% ( 0/500)\n",
            "Train Accuracy of     2: 0.800% ( 4/500)\n",
            "Train Accuracy of     3: 0.000% ( 0/500)\n",
            "Train Accuracy of     4: 0.000% ( 0/500)\n",
            "Train Accuracy of     5: 0.000% ( 0/500)\n",
            "Train Accuracy of     6: 0.000% ( 0/500)\n",
            "Train Accuracy of     7: 0.000% ( 0/500)\n",
            "Train Accuracy of     8: 0.000% ( 0/500)\n",
            "Train Accuracy of     9: 0.000% ( 0/500)\n",
            "Train Accuracy of    10: 0.000% ( 0/500)\n",
            "Train Accuracy of    11: 0.000% ( 0/500)\n",
            "Train Accuracy of    12: 0.000% ( 0/500)\n",
            "Train Accuracy of    13: 0.000% ( 0/500)\n",
            "Train Accuracy of    14: 0.000% ( 0/500)\n",
            "Train Accuracy of    15: 0.000% ( 0/500)\n",
            "Train Accuracy of    16: 0.000% ( 0/500)\n",
            "Train Accuracy of    17: 0.000% ( 0/500)\n",
            "Train Accuracy of    18: 0.000% ( 0/500)\n",
            "Train Accuracy of    19: 0.200% ( 1/500)\n",
            "Train Accuracy of    20: 0.000% ( 0/500)\n",
            "Train Accuracy of    21: 3.600% (18/500)\n",
            "Train Accuracy of    22: 0.400% ( 2/500)\n",
            "Train Accuracy of    23: 94.200% (471/500)\n",
            "Train Accuracy of    24: 0.000% ( 0/500)\n",
            "Train Accuracy of    25: 0.400% ( 2/500)\n",
            "Train Accuracy of    26: 0.000% ( 0/500)\n",
            "Train Accuracy of    27: 0.200% ( 1/500)\n",
            "Train Accuracy of    28: 0.000% ( 0/500)\n",
            "Train Accuracy of    29: 0.000% ( 0/500)\n",
            "Train Accuracy of    30: 0.600% ( 3/500)\n",
            "Train Accuracy of    31: 0.000% ( 0/500)\n",
            "Train Accuracy of    32: 0.000% ( 0/500)\n",
            "Train Accuracy of    33: 0.000% ( 0/500)\n",
            "Train Accuracy of    34: 0.000% ( 0/500)\n",
            "Train Accuracy of    35: 1.400% ( 7/500)\n",
            "Train Accuracy of    36: 0.000% ( 0/500)\n",
            "Train Accuracy of    37: 0.000% ( 0/500)\n",
            "Train Accuracy of    38: 0.000% ( 0/500)\n",
            "Train Accuracy of    39: 0.000% ( 0/500)\n",
            "Train Accuracy of    40: 0.000% ( 0/500)\n",
            "Train Accuracy of    41: 0.600% ( 3/500)\n",
            "Train Accuracy of    42: 0.000% ( 0/500)\n",
            "Train Accuracy of    43: 0.000% ( 0/500)\n",
            "Train Accuracy of    44: 1.600% ( 8/500)\n",
            "Train Accuracy of    45: 0.200% ( 1/500)\n",
            "Train Accuracy of    46: 0.600% ( 3/500)\n",
            "Train Accuracy of    47: 0.200% ( 1/500)\n",
            "Train Accuracy of    48: 0.000% ( 0/500)\n",
            "Train Accuracy of    49: 0.000% ( 0/500)\n",
            "Train Accuracy of    50: 0.400% ( 2/500)\n",
            "Train Accuracy of    51: 0.000% ( 0/500)\n",
            "Train Accuracy of    52: 0.000% ( 0/500)\n",
            "Train Accuracy of    53: 0.000% ( 0/500)\n",
            "Train Accuracy of    54: 0.000% ( 0/500)\n",
            "Train Accuracy of    55: 0.000% ( 0/500)\n",
            "Train Accuracy of    56: 0.000% ( 0/500)\n",
            "Train Accuracy of    57: 0.000% ( 0/500)\n",
            "Train Accuracy of    58: 0.000% ( 0/500)\n",
            "Train Accuracy of    59: 0.200% ( 1/500)\n",
            "Train Accuracy of    60: 0.000% ( 0/500)\n",
            "Train Accuracy of    61: 0.200% ( 1/500)\n",
            "Train Accuracy of    62: 3.200% (16/500)\n",
            "Train Accuracy of    63: 0.000% ( 0/500)\n",
            "Train Accuracy of    64: 0.400% ( 2/500)\n",
            "Train Accuracy of    65: 0.000% ( 0/500)\n",
            "Train Accuracy of    66: 0.200% ( 1/500)\n",
            "Train Accuracy of    67: 0.000% ( 0/500)\n",
            "Train Accuracy of    68: 0.400% ( 2/500)\n",
            "Train Accuracy of    69: 0.000% ( 0/500)\n",
            "Train Accuracy of    70: 1.000% ( 5/500)\n",
            "Train Accuracy of    71: 0.000% ( 0/500)\n",
            "Train Accuracy of    72: 0.000% ( 0/500)\n",
            "Train Accuracy of    73: 1.000% ( 5/500)\n",
            "Train Accuracy of    74: 0.000% ( 0/500)\n",
            "Train Accuracy of    75: 0.000% ( 0/500)\n",
            "Train Accuracy of    76: 0.000% ( 0/500)\n",
            "Train Accuracy of    77: 0.000% ( 0/500)\n",
            "Train Accuracy of    78: 0.200% ( 1/500)\n",
            "Train Accuracy of    79: 0.000% ( 0/500)\n",
            "Train Accuracy of    80: 0.000% ( 0/500)\n",
            "Train Accuracy of    81: 0.200% ( 1/500)\n",
            "Train Accuracy of    82: 0.400% ( 2/500)\n",
            "Train Accuracy of    83: 0.000% ( 0/500)\n",
            "Train Accuracy of    84: 1.000% ( 5/500)\n",
            "Train Accuracy of    85: 0.200% ( 1/500)\n",
            "Train Accuracy of    86: 0.000% ( 0/500)\n",
            "Train Accuracy of    87: 0.000% ( 0/500)\n",
            "Train Accuracy of    88: 0.000% ( 0/500)\n",
            "Train Accuracy of    89: 0.000% ( 0/500)\n",
            "Train Accuracy of    90: 1.000% ( 5/500)\n",
            "Train Accuracy of    91: 0.000% ( 0/500)\n",
            "Train Accuracy of    92: 0.400% ( 2/500)\n",
            "Train Accuracy of    93: 0.000% ( 0/500)\n",
            "Train Accuracy of    94: 0.000% ( 0/500)\n",
            "Train Accuracy of    95: 0.000% ( 0/500)\n",
            "Train Accuracy of    96: 0.200% ( 1/500)\n",
            "Train Accuracy of    97: 0.400% ( 2/500)\n",
            "Train Accuracy of    98: 0.000% ( 0/500)\n",
            "Train Accuracy of    99: 0.200% ( 1/500)\n",
            "\n",
            "Final Train  Accuracy: 1.162 (581.0/50000.0)\n",
            "Round: 50... \tAverage Loss: 6.512\n",
            "Training Done!\n",
            "Total time taken to Train: 1817.0793268680573\n"
          ],
          "name": "stdout"
        },
        {
          "output_type": "display_data",
          "data": {
            "image/png": "[encoded data removed]",
            "text/plain": [
              "<Figure size 432x288 with 1 Axes>"
            ]
          },
          "metadata": {
            "tags": [],
            "needs_background": "light"
          }
        }
      ]
    },
    {
      "cell_type": "markdown",
      "metadata": {
        "id": "4C68J-Kk14dB"
      },
      "source": [
        "### Test"
      ]
    },
    {
      "cell_type": "code",
      "metadata": {
        "colab": {
          "base_uri": "https://localhost:8080/"
        },
        "id": "_yQ9GiAZ15jE",
        "outputId": "6afee973-92aa-444e-eb8c-28c58c6cc84c"
      },
      "source": [
        "criterion = nn.CrossEntropyLoss()\n",
        "testing(mnist_cnn_non_iid_trained, mnist_data_test, 128, criterion, num_classes, classes_test,100)"
      ],
      "execution_count": null,
      "outputs": [
        {
          "output_type": "stream",
          "text": [
            "Train Loss: 8.084785\n",
            "\n",
            "Train Accuracy of     0: 0.000% ( 0/100)\n",
            "Train Accuracy of     1: 0.000% ( 0/100)\n",
            "Train Accuracy of     2: 1.000% ( 1/100)\n",
            "Train Accuracy of     3: 0.000% ( 0/100)\n",
            "Train Accuracy of     4: 1.000% ( 1/100)\n",
            "Train Accuracy of     5: 0.000% ( 0/100)\n",
            "Train Accuracy of     6: 0.000% ( 0/100)\n",
            "Train Accuracy of     7: 0.000% ( 0/100)\n",
            "Train Accuracy of     8: 0.000% ( 0/100)\n",
            "Train Accuracy of     9: 0.000% ( 0/100)\n",
            "Train Accuracy of    10: 0.000% ( 0/100)\n",
            "Train Accuracy of    11: 1.000% ( 1/100)\n",
            "Train Accuracy of    12: 0.000% ( 0/100)\n",
            "Train Accuracy of    13: 0.000% ( 0/100)\n",
            "Train Accuracy of    14: 0.000% ( 0/100)\n",
            "Train Accuracy of    15: 0.000% ( 0/100)\n",
            "Train Accuracy of    16: 0.000% ( 0/100)\n",
            "Train Accuracy of    17: 0.000% ( 0/100)\n",
            "Train Accuracy of    18: 0.000% ( 0/100)\n",
            "Train Accuracy of    19: 0.000% ( 0/100)\n",
            "Train Accuracy of    20: 0.000% ( 0/100)\n",
            "Train Accuracy of    21: 4.000% ( 4/100)\n",
            "Train Accuracy of    22: 0.000% ( 0/100)\n",
            "Train Accuracy of    23: 91.000% (91/100)\n",
            "Train Accuracy of    24: 0.000% ( 0/100)\n",
            "Train Accuracy of    25: 0.000% ( 0/100)\n",
            "Train Accuracy of    26: 0.000% ( 0/100)\n",
            "Train Accuracy of    27: 0.000% ( 0/100)\n",
            "Train Accuracy of    28: 0.000% ( 0/100)\n",
            "Train Accuracy of    29: 0.000% ( 0/100)\n",
            "Train Accuracy of    30: 0.000% ( 0/100)\n",
            "Train Accuracy of    31: 0.000% ( 0/100)\n",
            "Train Accuracy of    32: 0.000% ( 0/100)\n",
            "Train Accuracy of    33: 0.000% ( 0/100)\n",
            "Train Accuracy of    34: 0.000% ( 0/100)\n",
            "Train Accuracy of    35: 1.000% ( 1/100)\n",
            "Train Accuracy of    36: 0.000% ( 0/100)\n",
            "Train Accuracy of    37: 1.000% ( 1/100)\n",
            "Train Accuracy of    38: 0.000% ( 0/100)\n",
            "Train Accuracy of    39: 0.000% ( 0/100)\n",
            "Train Accuracy of    40: 0.000% ( 0/100)\n",
            "Train Accuracy of    41: 0.000% ( 0/100)\n",
            "Train Accuracy of    42: 0.000% ( 0/100)\n",
            "Train Accuracy of    43: 0.000% ( 0/100)\n",
            "Train Accuracy of    44: 0.000% ( 0/100)\n",
            "Train Accuracy of    45: 0.000% ( 0/100)\n",
            "Train Accuracy of    46: 1.000% ( 1/100)\n",
            "Train Accuracy of    47: 0.000% ( 0/100)\n",
            "Train Accuracy of    48: 0.000% ( 0/100)\n",
            "Train Accuracy of    49: 0.000% ( 0/100)\n",
            "Train Accuracy of    50: 0.000% ( 0/100)\n",
            "Train Accuracy of    51: 0.000% ( 0/100)\n",
            "Train Accuracy of    52: 0.000% ( 0/100)\n",
            "Train Accuracy of    53: 0.000% ( 0/100)\n",
            "Train Accuracy of    54: 0.000% ( 0/100)\n",
            "Train Accuracy of    55: 0.000% ( 0/100)\n",
            "Train Accuracy of    56: 0.000% ( 0/100)\n",
            "Train Accuracy of    57: 0.000% ( 0/100)\n",
            "Train Accuracy of    58: 0.000% ( 0/100)\n",
            "Train Accuracy of    59: 0.000% ( 0/100)\n",
            "Train Accuracy of    60: 0.000% ( 0/100)\n",
            "Train Accuracy of    61: 1.000% ( 1/100)\n",
            "Train Accuracy of    62: 4.000% ( 4/100)\n",
            "Train Accuracy of    63: 0.000% ( 0/100)\n",
            "Train Accuracy of    64: 0.000% ( 0/100)\n",
            "Train Accuracy of    65: 0.000% ( 0/100)\n",
            "Train Accuracy of    66: 0.000% ( 0/100)\n",
            "Train Accuracy of    67: 0.000% ( 0/100)\n",
            "Train Accuracy of    68: 1.000% ( 1/100)\n",
            "Train Accuracy of    69: 0.000% ( 0/100)\n",
            "Train Accuracy of    70: 0.000% ( 0/100)\n",
            "Train Accuracy of    71: 0.000% ( 0/100)\n",
            "Train Accuracy of    72: 0.000% ( 0/100)\n",
            "Train Accuracy of    73: 1.000% ( 1/100)\n",
            "Train Accuracy of    74: 0.000% ( 0/100)\n",
            "Train Accuracy of    75: 0.000% ( 0/100)\n",
            "Train Accuracy of    76: 0.000% ( 0/100)\n",
            "Train Accuracy of    77: 0.000% ( 0/100)\n",
            "Train Accuracy of    78: 0.000% ( 0/100)\n",
            "Train Accuracy of    79: 0.000% ( 0/100)\n",
            "Train Accuracy of    80: 1.000% ( 1/100)\n",
            "Train Accuracy of    81: 0.000% ( 0/100)\n",
            "Train Accuracy of    82: 1.000% ( 1/100)\n",
            "Train Accuracy of    83: 0.000% ( 0/100)\n",
            "Train Accuracy of    84: 0.000% ( 0/100)\n",
            "Train Accuracy of    85: 0.000% ( 0/100)\n",
            "Train Accuracy of    86: 0.000% ( 0/100)\n",
            "Train Accuracy of    87: 0.000% ( 0/100)\n",
            "Train Accuracy of    88: 0.000% ( 0/100)\n",
            "Train Accuracy of    89: 0.000% ( 0/100)\n",
            "Train Accuracy of    90: 2.000% ( 2/100)\n",
            "Train Accuracy of    91: 0.000% ( 0/100)\n",
            "Train Accuracy of    92: 0.000% ( 0/100)\n",
            "Train Accuracy of    93: 0.000% ( 0/100)\n",
            "Train Accuracy of    94: 0.000% ( 0/100)\n",
            "Train Accuracy of    95: 0.000% ( 0/100)\n",
            "Train Accuracy of    96: 0.000% ( 0/100)\n",
            "Train Accuracy of    97: 0.000% ( 0/100)\n",
            "Train Accuracy of    98: 0.000% ( 0/100)\n",
            "Train Accuracy of    99: 1.000% ( 1/100)\n",
            "\n",
            "Final Train  Accuracy: 1.130 (113.0/10000.0)\n"
          ],
          "name": "stdout"
        }
      ]
    },
    {
      "cell_type": "markdown",
      "metadata": {
        "id": "z_jifdzniuhm"
      },
      "source": [
        "## MNIST MLP on IID"
      ]
    },
    {
      "cell_type": "markdown",
      "metadata": {
        "id": "uh-te0Od2XGO"
      },
      "source": [
        "### Train"
      ]
    },
    {
      "cell_type": "code",
      "metadata": {
        "colab": {
          "base_uri": "https://localhost:8080/",
          "height": 1000
        },
        "id": "UmpWmKOQixVV",
        "outputId": "1521df90-789b-44de-b160-c0791e833363"
      },
      "source": [
        "# number of training rounds\n",
        "rounds = 100\n",
        "# client fraction\n",
        "C = 0.1\n",
        "# number of clients\n",
        "K = 100\n",
        "# number of training passes on local dataset for each round\n",
        "E = 5\n",
        "# batch size\n",
        "batch_size = 10\n",
        "# learning Rate\n",
        "lr=0.03\n",
        "# dict containing different type of data partition\n",
        "data_dict = iid_partition(mnist_data_train, 100)\n",
        "# load model\n",
        "mnist_mlp = MNIST_2NN()\n",
        "\n",
        "if torch.cuda.is_available():\n",
        "  mnist_mlp.cuda()\n",
        "\n",
        "mnist_mlp_iid_trained = training(mnist_mlp, rounds, batch_size, lr, mnist_data_train, data_dict, C, K, E, \"MNIST MLP on IID Dataset\", \"orange\")\n"
      ],
      "execution_count": null,
      "outputs": [
        {
          "output_type": "stream",
          "text": [
            "Round: 1... \tAverage Loss: 0.607\n",
            "Round: 2... \tAverage Loss: 0.166\n",
            "Round: 3... \tAverage Loss: 0.135\n",
            "Round: 4... \tAverage Loss: 0.106\n",
            "Round: 5... \tAverage Loss: 0.091\n",
            "Round: 6... \tAverage Loss: 0.078\n",
            "Round: 7... \tAverage Loss: 0.072\n",
            "Round: 8... \tAverage Loss: 0.074\n",
            "Round: 9... \tAverage Loss: 0.06\n",
            "Round: 10... \tAverage Loss: 0.059\n",
            "Round: 11... \tAverage Loss: 0.053\n",
            "Round: 12... \tAverage Loss: 0.047\n",
            "Round: 13... \tAverage Loss: 0.049\n",
            "Round: 14... \tAverage Loss: 0.048\n",
            "Round: 15... \tAverage Loss: 0.048\n",
            "Round: 16... \tAverage Loss: 0.046\n",
            "Round: 17... \tAverage Loss: 0.039\n",
            "Round: 18... \tAverage Loss: 0.041\n",
            "Round: 19... \tAverage Loss: 0.041\n",
            "Round: 20... \tAverage Loss: 0.032\n",
            "Round: 21... \tAverage Loss: 0.031\n",
            "Round: 22... \tAverage Loss: 0.029\n",
            "Round: 23... \tAverage Loss: 0.034\n",
            "Round: 24... \tAverage Loss: 0.035\n",
            "Round: 25... \tAverage Loss: 0.027\n",
            "Round: 26... \tAverage Loss: 0.03\n",
            "Round: 27... \tAverage Loss: 0.032\n",
            "Round: 28... \tAverage Loss: 0.023\n",
            "Round: 29... \tAverage Loss: 0.032\n",
            "Round: 30... \tAverage Loss: 0.026\n",
            "Round: 31... \tAverage Loss: 0.03\n",
            "Round: 32... \tAverage Loss: 0.029\n",
            "Round: 33... \tAverage Loss: 0.03\n",
            "Round: 34... \tAverage Loss: 0.023\n",
            "Round: 35... \tAverage Loss: 0.034\n",
            "Round: 36... \tAverage Loss: 0.021\n",
            "Round: 37... \tAverage Loss: 0.026\n",
            "Round: 38... \tAverage Loss: 0.023\n",
            "Round: 39... \tAverage Loss: 0.025\n",
            "Round: 40... \tAverage Loss: 0.027\n",
            "Round: 41... \tAverage Loss: 0.019\n",
            "Round: 42... \tAverage Loss: 0.024\n",
            "Round: 43... \tAverage Loss: 0.024\n",
            "Round: 44... \tAverage Loss: 0.021\n",
            "Round: 45... \tAverage Loss: 0.016\n",
            "Round: 46... \tAverage Loss: 0.018\n",
            "Round: 47... \tAverage Loss: 0.019\n",
            "Round: 48... \tAverage Loss: 0.018\n",
            "Round: 49... \tAverage Loss: 0.02\n",
            "Round: 50... \tAverage Loss: 0.017\n",
            "Round: 51... \tAverage Loss: 0.018\n",
            "Round: 52... \tAverage Loss: 0.019\n",
            "Round: 53... \tAverage Loss: 0.019\n",
            "Round: 54... \tAverage Loss: 0.018\n",
            "Round: 55... \tAverage Loss: 0.021\n",
            "Round: 56... \tAverage Loss: 0.016\n",
            "Round: 57... \tAverage Loss: 0.017\n",
            "Round: 58... \tAverage Loss: 0.017\n",
            "Round: 59... \tAverage Loss: 0.018\n",
            "Round: 60... \tAverage Loss: 0.018\n",
            "Round: 61... \tAverage Loss: 0.016\n",
            "Round: 62... \tAverage Loss: 0.012\n",
            "Round: 63... \tAverage Loss: 0.014\n",
            "Round: 64... \tAverage Loss: 0.015\n",
            "Round: 65... \tAverage Loss: 0.014\n",
            "Round: 66... \tAverage Loss: 0.013\n",
            "Round: 67... \tAverage Loss: 0.011\n",
            "Round: 68... \tAverage Loss: 0.017\n",
            "Round: 69... \tAverage Loss: 0.013\n",
            "Round: 70... \tAverage Loss: 0.013\n",
            "Round: 71... \tAverage Loss: 0.013\n",
            "Round: 72... \tAverage Loss: 0.017\n",
            "Round: 73... \tAverage Loss: 0.015\n",
            "Round: 74... \tAverage Loss: 0.012\n",
            "Round: 75... \tAverage Loss: 0.01\n",
            "Round: 76... \tAverage Loss: 0.011\n",
            "Round: 77... \tAverage Loss: 0.014\n",
            "Round: 78... \tAverage Loss: 0.013\n",
            "Round: 79... \tAverage Loss: 0.01\n",
            "Round: 80... \tAverage Loss: 0.01\n",
            "Round: 81... \tAverage Loss: 0.011\n",
            "Round: 82... \tAverage Loss: 0.012\n",
            "Round: 83... \tAverage Loss: 0.01\n",
            "Round: 84... \tAverage Loss: 0.012\n",
            "Round: 85... \tAverage Loss: 0.013\n",
            "Round: 86... \tAverage Loss: 0.011\n",
            "Round: 87... \tAverage Loss: 0.011\n",
            "Round: 88... \tAverage Loss: 0.009\n",
            "Round: 89... \tAverage Loss: 0.009\n",
            "Round: 90... \tAverage Loss: 0.013\n",
            "Round: 91... \tAverage Loss: 0.01\n",
            "Round: 92... \tAverage Loss: 0.013\n",
            "Round: 93... \tAverage Loss: 0.009\n",
            "Round: 94... \tAverage Loss: 0.009\n",
            "Round: 95... \tAverage Loss: 0.01\n",
            "Round: 96... \tAverage Loss: 0.008\n",
            "Round: 97... \tAverage Loss: 0.01\n",
            "Round: 98... \tAverage Loss: 0.008\n",
            "Round: 99... \tAverage Loss: 0.007\n",
            "Round: 100... \tAverage Loss: 0.008\n",
            "Training Done!\n",
            "Total time taken to Train: 772.1456069946289\n"
          ],
          "name": "stdout"
        },
        {
          "output_type": "display_data",
          "data": {
            "image/png": "[encoded data removed]",
            "text/plain": [
              "<Figure size 432x288 with 1 Axes>"
            ]
          },
          "metadata": {
            "tags": []
          }
        }
      ]
    },
    {
      "cell_type": "markdown",
      "metadata": {
        "id": "aTBsL3-72PPd"
      },
      "source": [
        "### Test"
      ]
    },
    {
      "cell_type": "code",
      "metadata": {
        "colab": {
          "base_uri": "https://localhost:8080/",
          "height": 255
        },
        "id": "a9G4j5L62OrS",
        "outputId": "52ba4f24-3a8c-4ea3-d958-8822fb86d5a9"
      },
      "source": [
        "criterion = nn.CrossEntropyLoss()\n",
        "testing(mnist_mlp_iid_trained, mnist_data_test, 128, criterion, num_classes, classes_test)"
      ],
      "execution_count": null,
      "outputs": [
        {
          "output_type": "stream",
          "text": [
            "Test Loss: 0.071607\n",
            "\n",
            "Test Accuracy of     0: 97% (74/76)\n",
            "Test Accuracy of     1: 97% (88/90)\n",
            "Test Accuracy of     2: 98% (90/91)\n",
            "Test Accuracy of     3: 97% (71/73)\n",
            "Test Accuracy of     4: 96% (86/89)\n",
            "Test Accuracy of     5: 98% (67/68)\n",
            "Test Accuracy of     6: 96% (60/62)\n",
            "Test Accuracy of     7: 98% (80/81)\n",
            "Test Accuracy of     8: 98% (76/77)\n",
            "Test Accuracy of     9: 97% (81/83)\n",
            "\n",
            "Final Test  Accuracy: 97.848 (773.0/790.0)\n"
          ],
          "name": "stdout"
        }
      ]
    },
    {
      "cell_type": "markdown",
      "metadata": {
        "id": "J8jzEyO0iywz"
      },
      "source": [
        "## MNIST MLP on Non IID"
      ]
    },
    {
      "cell_type": "markdown",
      "metadata": {
        "id": "pJFepr3y2bF-"
      },
      "source": [
        "### Train"
      ]
    },
    {
      "cell_type": "code",
      "metadata": {
        "colab": {
          "base_uri": "https://localhost:8080/",
          "height": 1000
        },
        "id": "EBKO44Hgi1Uh",
        "outputId": "e52d135c-f4ce-4cc2-8434-6f100310172f"
      },
      "source": [
        "# number of training rounds\n",
        "rounds = 100\n",
        "# client fraction\n",
        "C = 0.1\n",
        "# number of clients\n",
        "K = 100\n",
        "# number of training passes on local dataset for each roung\n",
        "E = 5\n",
        "# batch size\n",
        "batch_size = 10\n",
        "# learning Rate\n",
        "lr=0.05\n",
        "# dict containing different type of data partition\n",
        "data_dict = non_iid_partition(mnist_data_train, 100, 200, 300, 2)\n",
        "# load model\n",
        "mnist_mlp = MNIST_2NN()\n",
        "\n",
        "if torch.cuda.is_available():\n",
        "  mnist_mlp.cuda()\n",
        "\n",
        "mnist_mlp_non_iid_trained = training(mnist_mlp, rounds, batch_size, lr, mnist_data_train, data_dict, C, K, E, \"MNIST MLP on Non-IID Dataset\", \"green\")"
      ],
      "execution_count": null,
      "outputs": [
        {
          "output_type": "stream",
          "text": [
            "Round: 1... \tAverage Loss: 0.125\n",
            "Round: 2... \tAverage Loss: 0.081\n",
            "Round: 3... \tAverage Loss: 0.036\n",
            "Round: 4... \tAverage Loss: 0.024\n",
            "Round: 5... \tAverage Loss: 0.021\n",
            "Round: 6... \tAverage Loss: 0.036\n",
            "Round: 7... \tAverage Loss: 0.02\n",
            "Round: 8... \tAverage Loss: 0.014\n",
            "Round: 9... \tAverage Loss: 0.018\n",
            "Round: 10... \tAverage Loss: 0.022\n",
            "Round: 11... \tAverage Loss: 0.023\n",
            "Round: 12... \tAverage Loss: 0.041\n",
            "Round: 13... \tAverage Loss: 0.026\n",
            "Round: 14... \tAverage Loss: 0.016\n",
            "Round: 15... \tAverage Loss: 0.019\n",
            "Round: 16... \tAverage Loss: 0.012\n",
            "Round: 17... \tAverage Loss: 0.035\n",
            "Round: 18... \tAverage Loss: 0.018\n",
            "Round: 19... \tAverage Loss: 0.02\n",
            "Round: 20... \tAverage Loss: 0.013\n",
            "Round: 21... \tAverage Loss: 0.012\n",
            "Round: 22... \tAverage Loss: 0.019\n",
            "Round: 23... \tAverage Loss: 0.019\n",
            "Round: 24... \tAverage Loss: 0.015\n",
            "Round: 25... \tAverage Loss: 0.022\n",
            "Round: 26... \tAverage Loss: 0.02\n",
            "Round: 27... \tAverage Loss: 0.016\n",
            "Round: 28... \tAverage Loss: 0.019\n",
            "Round: 29... \tAverage Loss: 0.025\n",
            "Round: 30... \tAverage Loss: 0.011\n",
            "Round: 31... \tAverage Loss: 0.016\n",
            "Round: 32... \tAverage Loss: 0.011\n",
            "Round: 33... \tAverage Loss: 0.01\n",
            "Round: 34... \tAverage Loss: 0.018\n",
            "Round: 35... \tAverage Loss: 0.012\n",
            "Round: 36... \tAverage Loss: 0.019\n",
            "Round: 37... \tAverage Loss: 0.009\n",
            "Round: 38... \tAverage Loss: 0.013\n",
            "Round: 39... \tAverage Loss: 0.016\n",
            "Round: 40... \tAverage Loss: 0.014\n",
            "Round: 41... \tAverage Loss: 0.023\n",
            "Round: 42... \tAverage Loss: 0.01\n",
            "Round: 43... \tAverage Loss: 0.011\n",
            "Round: 44... \tAverage Loss: 0.009\n",
            "Round: 45... \tAverage Loss: 0.01\n",
            "Round: 46... \tAverage Loss: 0.016\n",
            "Round: 47... \tAverage Loss: 0.008\n",
            "Round: 48... \tAverage Loss: 0.009\n",
            "Round: 49... \tAverage Loss: 0.005\n",
            "Round: 50... \tAverage Loss: 0.005\n",
            "Round: 51... \tAverage Loss: 0.008\n",
            "Round: 52... \tAverage Loss: 0.008\n",
            "Round: 53... \tAverage Loss: 0.01\n",
            "Round: 54... \tAverage Loss: 0.011\n",
            "Round: 55... \tAverage Loss: 0.009\n",
            "Round: 56... \tAverage Loss: 0.009\n",
            "Round: 57... \tAverage Loss: 0.014\n",
            "Round: 58... \tAverage Loss: 0.007\n",
            "Round: 59... \tAverage Loss: 0.007\n",
            "Round: 60... \tAverage Loss: 0.008\n",
            "Round: 61... \tAverage Loss: 0.014\n",
            "Round: 62... \tAverage Loss: 0.008\n",
            "Round: 63... \tAverage Loss: 0.007\n",
            "Round: 64... \tAverage Loss: 0.01\n",
            "Round: 65... \tAverage Loss: 0.004\n",
            "Round: 66... \tAverage Loss: 0.007\n",
            "Round: 67... \tAverage Loss: 0.007\n",
            "Round: 68... \tAverage Loss: 0.006\n",
            "Round: 69... \tAverage Loss: 0.01\n",
            "Round: 70... \tAverage Loss: 0.004\n",
            "Round: 71... \tAverage Loss: 0.006\n",
            "Round: 72... \tAverage Loss: 0.009\n",
            "Round: 73... \tAverage Loss: 0.005\n",
            "Round: 74... \tAverage Loss: 0.005\n",
            "Round: 75... \tAverage Loss: 0.011\n",
            "Round: 76... \tAverage Loss: 0.005\n",
            "Round: 77... \tAverage Loss: 0.005\n",
            "Round: 78... \tAverage Loss: 0.005\n",
            "Round: 79... \tAverage Loss: 0.013\n",
            "Round: 80... \tAverage Loss: 0.012\n",
            "Round: 81... \tAverage Loss: 0.005\n",
            "Round: 82... \tAverage Loss: 0.004\n",
            "Round: 83... \tAverage Loss: 0.005\n",
            "Round: 84... \tAverage Loss: 0.006\n",
            "Round: 85... \tAverage Loss: 0.008\n",
            "Round: 86... \tAverage Loss: 0.006\n",
            "Round: 87... \tAverage Loss: 0.006\n",
            "Round: 88... \tAverage Loss: 0.004\n",
            "Round: 89... \tAverage Loss: 0.008\n",
            "Round: 90... \tAverage Loss: 0.006\n",
            "Round: 91... \tAverage Loss: 0.003\n",
            "Round: 92... \tAverage Loss: 0.005\n",
            "Round: 93... \tAverage Loss: 0.003\n",
            "Round: 94... \tAverage Loss: 0.004\n",
            "Round: 95... \tAverage Loss: 0.003\n",
            "Round: 96... \tAverage Loss: 0.004\n",
            "Round: 97... \tAverage Loss: 0.003\n",
            "Round: 98... \tAverage Loss: 0.006\n",
            "Round: 99... \tAverage Loss: 0.003\n",
            "Round: 100... \tAverage Loss: 0.008\n",
            "Training Done!\n",
            "Total time taken to Train: 768.7464578151703\n"
          ],
          "name": "stdout"
        },
        {
          "output_type": "display_data",
          "data": {
            "image/png": "[encoded data removed]",
            "text/plain": [
              "<Figure size 432x288 with 1 Axes>"
            ]
          },
          "metadata": {
            "tags": []
          }
        }
      ]
    },
    {
      "cell_type": "markdown",
      "metadata": {
        "id": "jmuQYPbF2mes"
      },
      "source": [
        "### Test"
      ]
    },
    {
      "cell_type": "code",
      "metadata": {
        "colab": {
          "base_uri": "https://localhost:8080/",
          "height": 255
        },
        "id": "0tKMlJyF2nGN",
        "outputId": "a86897be-e726-45f7-a5ed-73dc502d7531"
      },
      "source": [
        "criterion = nn.CrossEntropyLoss()\n",
        "testing(mnist_mlp_non_iid_trained, mnist_data_test, 128, criterion, num_classes, classes_test)"
      ],
      "execution_count": null,
      "outputs": [
        {
          "output_type": "stream",
          "text": [
            "Test Loss: 0.156672\n",
            "\n",
            "Test Accuracy of     0: 98% (75/76)\n",
            "Test Accuracy of     1: 96% (87/90)\n",
            "Test Accuracy of     2: 92% (84/91)\n",
            "Test Accuracy of     3: 100% (73/73)\n",
            "Test Accuracy of     4: 97% (87/89)\n",
            "Test Accuracy of     5: 97% (66/68)\n",
            "Test Accuracy of     6: 98% (61/62)\n",
            "Test Accuracy of     7: 90% (73/81)\n",
            "Test Accuracy of     8: 85% (66/77)\n",
            "Test Accuracy of     9: 91% (76/83)\n",
            "\n",
            "Final Test  Accuracy: 94.684 (748.0/790.0)\n"
          ],
          "name": "stdout"
        }
      ]
    }
  ]
}